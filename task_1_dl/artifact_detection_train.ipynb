{
 "cells": [
  {
   "metadata": {
    "ExecuteTime": {
     "end_time": "2025-04-13T12:19:39.970231Z",
     "start_time": "2025-04-13T12:19:37.058298Z"
    }
   },
   "cell_type": "code",
   "source": "# !pip install -r requirements.txt",
   "id": "7acdf5b21a030367",
   "outputs": [
    {
     "name": "stdout",
     "output_type": "stream",
     "text": [
      "Requirement already satisfied: tensorflow==2.19.0 in c:\\anaconda3\\envs\\chi_it\\lib\\site-packages (from -r requirements.txt (line 1)) (2.19.0)\n",
      "Requirement already satisfied: numpy==1.26.4 in c:\\anaconda3\\envs\\chi_it\\lib\\site-packages (from -r requirements.txt (line 2)) (1.26.4)\n",
      "Requirement already satisfied: pandas==2.2.3 in c:\\anaconda3\\envs\\chi_it\\lib\\site-packages (from -r requirements.txt (line 3)) (2.2.3)\n",
      "Requirement already satisfied: matplotlib==3.9.2 in c:\\anaconda3\\envs\\chi_it\\lib\\site-packages (from -r requirements.txt (line 4)) (3.9.2)\n",
      "Requirement already satisfied: scikit-learn==1.3.0 in c:\\anaconda3\\envs\\chi_it\\lib\\site-packages (from -r requirements.txt (line 5)) (1.3.0)\n",
      "Requirement already satisfied: absl-py>=1.0.0 in c:\\anaconda3\\envs\\chi_it\\lib\\site-packages (from tensorflow==2.19.0->-r requirements.txt (line 1)) (2.2.2)\n",
      "Requirement already satisfied: astunparse>=1.6.0 in c:\\anaconda3\\envs\\chi_it\\lib\\site-packages (from tensorflow==2.19.0->-r requirements.txt (line 1)) (1.6.3)\n",
      "Requirement already satisfied: flatbuffers>=24.3.25 in c:\\anaconda3\\envs\\chi_it\\lib\\site-packages (from tensorflow==2.19.0->-r requirements.txt (line 1)) (25.2.10)\n",
      "Requirement already satisfied: gast!=0.5.0,!=0.5.1,!=0.5.2,>=0.2.1 in c:\\anaconda3\\envs\\chi_it\\lib\\site-packages (from tensorflow==2.19.0->-r requirements.txt (line 1)) (0.6.0)\n",
      "Requirement already satisfied: google-pasta>=0.1.1 in c:\\anaconda3\\envs\\chi_it\\lib\\site-packages (from tensorflow==2.19.0->-r requirements.txt (line 1)) (0.2.0)\n",
      "Requirement already satisfied: libclang>=13.0.0 in c:\\anaconda3\\envs\\chi_it\\lib\\site-packages (from tensorflow==2.19.0->-r requirements.txt (line 1)) (18.1.1)\n",
      "Requirement already satisfied: opt-einsum>=2.3.2 in c:\\anaconda3\\envs\\chi_it\\lib\\site-packages (from tensorflow==2.19.0->-r requirements.txt (line 1)) (3.4.0)\n",
      "Requirement already satisfied: packaging in c:\\anaconda3\\envs\\chi_it\\lib\\site-packages (from tensorflow==2.19.0->-r requirements.txt (line 1)) (24.1)\n",
      "Requirement already satisfied: protobuf!=4.21.0,!=4.21.1,!=4.21.2,!=4.21.3,!=4.21.4,!=4.21.5,<6.0.0dev,>=3.20.3 in c:\\anaconda3\\envs\\chi_it\\lib\\site-packages (from tensorflow==2.19.0->-r requirements.txt (line 1)) (5.29.4)\n",
      "Requirement already satisfied: requests<3,>=2.21.0 in c:\\anaconda3\\envs\\chi_it\\lib\\site-packages (from tensorflow==2.19.0->-r requirements.txt (line 1)) (2.32.3)\n",
      "Requirement already satisfied: setuptools in c:\\anaconda3\\envs\\chi_it\\lib\\site-packages (from tensorflow==2.19.0->-r requirements.txt (line 1)) (75.1.0)\n",
      "Requirement already satisfied: six>=1.12.0 in c:\\anaconda3\\envs\\chi_it\\lib\\site-packages (from tensorflow==2.19.0->-r requirements.txt (line 1)) (1.16.0)\n",
      "Requirement already satisfied: termcolor>=1.1.0 in c:\\anaconda3\\envs\\chi_it\\lib\\site-packages (from tensorflow==2.19.0->-r requirements.txt (line 1)) (3.0.1)\n",
      "Requirement already satisfied: typing-extensions>=3.6.6 in c:\\anaconda3\\envs\\chi_it\\lib\\site-packages (from tensorflow==2.19.0->-r requirements.txt (line 1)) (4.11.0)\n",
      "Requirement already satisfied: wrapt>=1.11.0 in c:\\anaconda3\\envs\\chi_it\\lib\\site-packages (from tensorflow==2.19.0->-r requirements.txt (line 1)) (1.17.2)\n",
      "Requirement already satisfied: grpcio<2.0,>=1.24.3 in c:\\anaconda3\\envs\\chi_it\\lib\\site-packages (from tensorflow==2.19.0->-r requirements.txt (line 1)) (1.71.0)\n",
      "Requirement already satisfied: tensorboard~=2.19.0 in c:\\anaconda3\\envs\\chi_it\\lib\\site-packages (from tensorflow==2.19.0->-r requirements.txt (line 1)) (2.19.0)\n",
      "Requirement already satisfied: keras>=3.5.0 in c:\\anaconda3\\envs\\chi_it\\lib\\site-packages (from tensorflow==2.19.0->-r requirements.txt (line 1)) (3.9.2)\n",
      "Requirement already satisfied: h5py>=3.11.0 in c:\\anaconda3\\envs\\chi_it\\lib\\site-packages (from tensorflow==2.19.0->-r requirements.txt (line 1)) (3.13.0)\n",
      "Requirement already satisfied: ml-dtypes<1.0.0,>=0.5.1 in c:\\anaconda3\\envs\\chi_it\\lib\\site-packages (from tensorflow==2.19.0->-r requirements.txt (line 1)) (0.5.1)\n",
      "Requirement already satisfied: tensorflow-io-gcs-filesystem>=0.23.1 in c:\\anaconda3\\envs\\chi_it\\lib\\site-packages (from tensorflow==2.19.0->-r requirements.txt (line 1)) (0.31.0)\n",
      "Requirement already satisfied: python-dateutil>=2.8.2 in c:\\anaconda3\\envs\\chi_it\\lib\\site-packages (from pandas==2.2.3->-r requirements.txt (line 3)) (2.9.0.post0)\n",
      "Requirement already satisfied: pytz>=2020.1 in c:\\anaconda3\\envs\\chi_it\\lib\\site-packages (from pandas==2.2.3->-r requirements.txt (line 3)) (2024.1)\n",
      "Requirement already satisfied: tzdata>=2022.7 in c:\\anaconda3\\envs\\chi_it\\lib\\site-packages (from pandas==2.2.3->-r requirements.txt (line 3)) (2023.3)\n",
      "Requirement already satisfied: contourpy>=1.0.1 in c:\\anaconda3\\envs\\chi_it\\lib\\site-packages (from matplotlib==3.9.2->-r requirements.txt (line 4)) (1.3.1)\n",
      "Requirement already satisfied: cycler>=0.10 in c:\\anaconda3\\envs\\chi_it\\lib\\site-packages (from matplotlib==3.9.2->-r requirements.txt (line 4)) (0.11.0)\n",
      "Requirement already satisfied: fonttools>=4.22.0 in c:\\anaconda3\\envs\\chi_it\\lib\\site-packages (from matplotlib==3.9.2->-r requirements.txt (line 4)) (4.51.0)\n",
      "Requirement already satisfied: kiwisolver>=1.3.1 in c:\\anaconda3\\envs\\chi_it\\lib\\site-packages (from matplotlib==3.9.2->-r requirements.txt (line 4)) (1.4.4)\n",
      "Requirement already satisfied: pillow>=8 in c:\\anaconda3\\envs\\chi_it\\lib\\site-packages (from matplotlib==3.9.2->-r requirements.txt (line 4)) (11.0.0)\n",
      "Requirement already satisfied: pyparsing>=2.3.1 in c:\\anaconda3\\envs\\chi_it\\lib\\site-packages (from matplotlib==3.9.2->-r requirements.txt (line 4)) (3.2.0)\n",
      "Requirement already satisfied: scipy>=1.5.0 in c:\\anaconda3\\envs\\chi_it\\lib\\site-packages (from scikit-learn==1.3.0->-r requirements.txt (line 5)) (1.15.1)\n",
      "Requirement already satisfied: joblib>=1.1.1 in c:\\anaconda3\\envs\\chi_it\\lib\\site-packages (from scikit-learn==1.3.0->-r requirements.txt (line 5)) (1.4.2)\n",
      "Requirement already satisfied: threadpoolctl>=2.0.0 in c:\\anaconda3\\envs\\chi_it\\lib\\site-packages (from scikit-learn==1.3.0->-r requirements.txt (line 5)) (3.5.0)\n",
      "Requirement already satisfied: wheel<1.0,>=0.23.0 in c:\\anaconda3\\envs\\chi_it\\lib\\site-packages (from astunparse>=1.6.0->tensorflow==2.19.0->-r requirements.txt (line 1)) (0.44.0)\n",
      "Requirement already satisfied: rich in c:\\anaconda3\\envs\\chi_it\\lib\\site-packages (from keras>=3.5.0->tensorflow==2.19.0->-r requirements.txt (line 1)) (14.0.0)\n",
      "Requirement already satisfied: namex in c:\\anaconda3\\envs\\chi_it\\lib\\site-packages (from keras>=3.5.0->tensorflow==2.19.0->-r requirements.txt (line 1)) (0.0.8)\n",
      "Requirement already satisfied: optree in c:\\anaconda3\\envs\\chi_it\\lib\\site-packages (from keras>=3.5.0->tensorflow==2.19.0->-r requirements.txt (line 1)) (0.15.0)\n",
      "Requirement already satisfied: charset-normalizer<4,>=2 in c:\\anaconda3\\envs\\chi_it\\lib\\site-packages (from requests<3,>=2.21.0->tensorflow==2.19.0->-r requirements.txt (line 1)) (3.3.2)\n",
      "Requirement already satisfied: idna<4,>=2.5 in c:\\anaconda3\\envs\\chi_it\\lib\\site-packages (from requests<3,>=2.21.0->tensorflow==2.19.0->-r requirements.txt (line 1)) (3.7)\n",
      "Requirement already satisfied: urllib3<3,>=1.21.1 in c:\\anaconda3\\envs\\chi_it\\lib\\site-packages (from requests<3,>=2.21.0->tensorflow==2.19.0->-r requirements.txt (line 1)) (2.2.3)\n",
      "Requirement already satisfied: certifi>=2017.4.17 in c:\\anaconda3\\envs\\chi_it\\lib\\site-packages (from requests<3,>=2.21.0->tensorflow==2.19.0->-r requirements.txt (line 1)) (2024.12.14)\n",
      "Requirement already satisfied: markdown>=2.6.8 in c:\\anaconda3\\envs\\chi_it\\lib\\site-packages (from tensorboard~=2.19.0->tensorflow==2.19.0->-r requirements.txt (line 1)) (3.7)\n",
      "Requirement already satisfied: tensorboard-data-server<0.8.0,>=0.7.0 in c:\\anaconda3\\envs\\chi_it\\lib\\site-packages (from tensorboard~=2.19.0->tensorflow==2.19.0->-r requirements.txt (line 1)) (0.7.2)\n",
      "Requirement already satisfied: werkzeug>=1.0.1 in c:\\anaconda3\\envs\\chi_it\\lib\\site-packages (from tensorboard~=2.19.0->tensorflow==2.19.0->-r requirements.txt (line 1)) (3.1.3)\n",
      "Requirement already satisfied: MarkupSafe>=2.1.1 in c:\\anaconda3\\envs\\chi_it\\lib\\site-packages (from werkzeug>=1.0.1->tensorboard~=2.19.0->tensorflow==2.19.0->-r requirements.txt (line 1)) (2.1.3)\n",
      "Requirement already satisfied: markdown-it-py>=2.2.0 in c:\\anaconda3\\envs\\chi_it\\lib\\site-packages (from rich->keras>=3.5.0->tensorflow==2.19.0->-r requirements.txt (line 1)) (3.0.0)\n",
      "Requirement already satisfied: pygments<3.0.0,>=2.13.0 in c:\\anaconda3\\envs\\chi_it\\lib\\site-packages (from rich->keras>=3.5.0->tensorflow==2.19.0->-r requirements.txt (line 1)) (2.15.1)\n",
      "Requirement already satisfied: mdurl~=0.1 in c:\\anaconda3\\envs\\chi_it\\lib\\site-packages (from markdown-it-py>=2.2.0->rich->keras>=3.5.0->tensorflow==2.19.0->-r requirements.txt (line 1)) (0.1.2)\n"
     ]
    }
   ],
   "execution_count": 4
  },
  {
   "metadata": {
    "ExecuteTime": {
     "end_time": "2025-04-13T12:20:20.379730Z",
     "start_time": "2025-04-13T12:20:09.188356Z"
    }
   },
   "cell_type": "code",
   "source": [
    "import matplotlib.pyplot as plt\n",
    "from sklearn.metrics import f1_score\n",
    "from tensorflow.keras.preprocessing.image import ImageDataGenerator\n",
    "from tensorflow.keras import layers, models\n",
    "from keras.saving import save_model"
   ],
   "id": "initial_id",
   "outputs": [],
   "execution_count": 5
  },
  {
   "metadata": {
    "ExecuteTime": {
     "end_time": "2025-04-13T12:20:20.397340Z",
     "start_time": "2025-04-13T12:20:20.381690Z"
    }
   },
   "cell_type": "code",
   "source": [
    "import warnings\n",
    "warnings.filterwarnings('ignore')"
   ],
   "id": "cb7127267e22316a",
   "outputs": [],
   "execution_count": 6
  },
  {
   "metadata": {
    "ExecuteTime": {
     "end_time": "2025-04-13T12:20:21.898066Z",
     "start_time": "2025-04-13T12:20:21.882407Z"
    }
   },
   "cell_type": "code",
   "source": [
    "# Path to the dataset\n",
    "data_dir = \"trainee_dataset\""
   ],
   "id": "7b04e01c0f99e132",
   "outputs": [],
   "execution_count": 7
  },
  {
   "metadata": {
    "ExecuteTime": {
     "end_time": "2025-04-13T12:20:23.249289Z",
     "start_time": "2025-04-13T12:20:23.060966Z"
    }
   },
   "cell_type": "code",
   "source": [
    "# Parameters for the image data generator\n",
    "train_datagen = ImageDataGenerator(rescale=1./255, validation_split=0.2)\n",
    "\n",
    "train_generator = train_datagen.flow_from_directory(\n",
    "    data_dir,\n",
    "    target_size=(150, 150),\n",
    "    batch_size=32,\n",
    "    class_mode='binary',\n",
    "    subset='training'\n",
    ")\n",
    "\n",
    "validation_generator = train_datagen.flow_from_directory(\n",
    "    data_dir,\n",
    "    target_size=(150, 150),\n",
    "    batch_size=32,\n",
    "    class_mode='binary',\n",
    "    subset='validation'\n",
    ")"
   ],
   "id": "8a6fe620a6fd6e85",
   "outputs": [
    {
     "name": "stdout",
     "output_type": "stream",
     "text": [
      "Found 1600 images belonging to 2 classes.\n",
      "Found 400 images belonging to 2 classes.\n"
     ]
    }
   ],
   "execution_count": 8
  },
  {
   "metadata": {
    "ExecuteTime": {
     "end_time": "2025-04-13T12:20:25.534392Z",
     "start_time": "2025-04-13T12:20:25.211697Z"
    }
   },
   "cell_type": "code",
   "source": [
    "# Creation of the model\n",
    "model = models.Sequential(\n",
    "    [\n",
    "        layers.Input(shape=(150, 150, 3)),\n",
    "        layers.Conv2D(32, (3, 3), activation='relu'),\n",
    "        layers.MaxPooling2D(pool_size=(2, 2)),\n",
    "        layers.Conv2D(64, (3, 3), activation='relu'),\n",
    "        layers.MaxPooling2D(pool_size=(2, 2)),\n",
    "        layers.Conv2D(128, (3, 3), activation='relu'),\n",
    "        layers.MaxPooling2D(pool_size=(2, 2)),\n",
    "        layers.Flatten(),\n",
    "        layers.Dense(128, activation='relu'),\n",
    "        layers.Dense(1, activation='sigmoid')\n",
    "    ]\n",
    ")"
   ],
   "id": "11a1f7c4bec98337",
   "outputs": [],
   "execution_count": 9
  },
  {
   "metadata": {
    "ExecuteTime": {
     "end_time": "2025-04-13T12:20:29.053038Z",
     "start_time": "2025-04-13T12:20:29.021866Z"
    }
   },
   "cell_type": "code",
   "source": [
    "# Model compilation\n",
    "model.compile(optimizer='adam',\n",
    "              loss='binary_crossentropy',\n",
    "              metrics=['accuracy'])"
   ],
   "id": "2096e1b1d26c8069",
   "outputs": [],
   "execution_count": 10
  },
  {
   "metadata": {
    "ExecuteTime": {
     "end_time": "2025-04-13T13:05:43.754536Z",
     "start_time": "2025-04-13T12:51:07.040901Z"
    }
   },
   "cell_type": "code",
   "source": [
    "# Model training\n",
    "history = model.fit(\n",
    "    train_generator,\n",
    "    steps_per_epoch=train_generator.samples // train_generator.batch_size,\n",
    "    validation_data=validation_generator,\n",
    "    validation_steps=validation_generator.samples // validation_generator.batch_size,\n",
    "    epochs=10\n",
    ")"
   ],
   "id": "1146cd246c2e0b79",
   "outputs": [
    {
     "name": "stdout",
     "output_type": "stream",
     "text": [
      "Epoch 1/10\n",
      "\u001B[1m50/50\u001B[0m \u001B[32m━━━━━━━━━━━━━━━━━━━━\u001B[0m\u001B[37m\u001B[0m \u001B[1m58s\u001B[0m 1s/step - accuracy: 0.9145 - loss: 0.2115 - val_accuracy: 0.8932 - val_loss: 0.4795\n",
      "Epoch 2/10\n",
      "\u001B[1m50/50\u001B[0m \u001B[32m━━━━━━━━━━━━━━━━━━━━\u001B[0m\u001B[37m\u001B[0m \u001B[1m56s\u001B[0m 1s/step - accuracy: 0.9531 - loss: 0.1367 - val_accuracy: 0.9010 - val_loss: 0.6133\n",
      "Epoch 3/10\n",
      "\u001B[1m50/50\u001B[0m \u001B[32m━━━━━━━━━━━━━━━━━━━━\u001B[0m\u001B[37m\u001B[0m \u001B[1m56s\u001B[0m 1s/step - accuracy: 0.9764 - loss: 0.0762 - val_accuracy: 0.8984 - val_loss: 0.6155\n",
      "Epoch 4/10\n",
      "\u001B[1m50/50\u001B[0m \u001B[32m━━━━━━━━━━━━━━━━━━━━\u001B[0m\u001B[37m\u001B[0m \u001B[1m56s\u001B[0m 1s/step - accuracy: 0.9867 - loss: 0.0533 - val_accuracy: 0.9010 - val_loss: 0.6390\n",
      "Epoch 5/10\n",
      "\u001B[1m50/50\u001B[0m \u001B[32m━━━━━━━━━━━━━━━━━━━━\u001B[0m\u001B[37m\u001B[0m \u001B[1m57s\u001B[0m 1s/step - accuracy: 0.9834 - loss: 0.0540 - val_accuracy: 0.8828 - val_loss: 1.0165\n",
      "Epoch 6/10\n",
      "\u001B[1m50/50\u001B[0m \u001B[32m━━━━━━━━━━━━━━━━━━━━\u001B[0m\u001B[37m\u001B[0m \u001B[1m99s\u001B[0m 2s/step - accuracy: 0.9864 - loss: 0.0382 - val_accuracy: 0.8750 - val_loss: 1.0193\n",
      "Epoch 7/10\n",
      "\u001B[1m50/50\u001B[0m \u001B[32m━━━━━━━━━━━━━━━━━━━━\u001B[0m\u001B[37m\u001B[0m \u001B[1m121s\u001B[0m 2s/step - accuracy: 0.9979 - loss: 0.0108 - val_accuracy: 0.8828 - val_loss: 1.2050\n",
      "Epoch 8/10\n",
      "\u001B[1m50/50\u001B[0m \u001B[32m━━━━━━━━━━━━━━━━━━━━\u001B[0m\u001B[37m\u001B[0m \u001B[1m119s\u001B[0m 2s/step - accuracy: 0.9991 - loss: 0.0066 - val_accuracy: 0.8854 - val_loss: 1.2443\n",
      "Epoch 9/10\n",
      "\u001B[1m50/50\u001B[0m \u001B[32m━━━━━━━━━━━━━━━━━━━━\u001B[0m\u001B[37m\u001B[0m \u001B[1m127s\u001B[0m 3s/step - accuracy: 1.0000 - loss: 0.0024 - val_accuracy: 0.8828 - val_loss: 1.3398\n",
      "Epoch 10/10\n",
      "\u001B[1m50/50\u001B[0m \u001B[32m━━━━━━━━━━━━━━━━━━━━\u001B[0m\u001B[37m\u001B[0m \u001B[1m125s\u001B[0m 3s/step - accuracy: 1.0000 - loss: 0.0017 - val_accuracy: 0.8750 - val_loss: 1.4617\n"
     ]
    }
   ],
   "execution_count": 12
  },
  {
   "metadata": {
    "ExecuteTime": {
     "end_time": "2025-04-13T13:10:33.302386Z",
     "start_time": "2025-04-13T13:10:19.773674Z"
    }
   },
   "cell_type": "code",
   "source": [
    "# Performance evaluation - calculating micro F1-score:\n",
    "def calculate_micro_f1(y_true, y_pred):\n",
    "    return f1_score(y_true, y_pred, average='micro')\n",
    "\n",
    "# Receiving predictions\n",
    "y_true = validation_generator.classes\n",
    "y_pred = (model.predict(validation_generator) > 0.5).astype(\"int32\")\n",
    "\n",
    "# Calculating micro F1-score\n",
    "f1 = calculate_micro_f1(y_true, y_pred)\n",
    "print(f\"Micro F1 Score: {f1}\")"
   ],
   "id": "508d391bfff8f0c8",
   "outputs": [
    {
     "name": "stdout",
     "output_type": "stream",
     "text": [
      "\u001B[1m13/13\u001B[0m \u001B[32m━━━━━━━━━━━━━━━━━━━━\u001B[0m\u001B[37m\u001B[0m \u001B[1m11s\u001B[0m 821ms/step\n",
      "Micro F1 Score: 0.87\n"
     ]
    }
   ],
   "execution_count": 13
  },
  {
   "metadata": {
    "ExecuteTime": {
     "end_time": "2025-04-13T13:10:33.318386Z",
     "start_time": "2025-04-13T13:10:33.302386Z"
    }
   },
   "cell_type": "code",
   "source": [
    "# Visualization of the training process\n",
    "def plot_training_history(history):\n",
    "    plt.figure(figsize=(12, 4))\n",
    "    \n",
    "    # Accuracy\n",
    "    plt.subplot(1, 2, 1)\n",
    "    plt.plot(history.history['accuracy'], label='train_accuracy')\n",
    "    plt.plot(history.history['val_accuracy'], label='val_accuracy')\n",
    "    plt.title('Model Accuracy')\n",
    "    plt.xlabel('Epochs')\n",
    "    plt.ylabel('Accuracy')\n",
    "    plt.legend()\n",
    "    \n",
    "    # Loss\n",
    "    plt.subplot(1, 2, 2)\n",
    "    plt.plot(history.history['loss'], label='train_loss')\n",
    "    plt.plot(history.history['val_loss'], label='val_loss')\n",
    "    plt.title('Model Loss')\n",
    "    plt.xlabel('Epochs')\n",
    "    plt.ylabel('Loss')\n",
    "    plt.legend()\n",
    "    \n",
    "    plt.show()"
   ],
   "id": "e9bb87828bb84113",
   "outputs": [],
   "execution_count": 14
  },
  {
   "metadata": {
    "ExecuteTime": {
     "end_time": "2025-04-13T13:10:33.540885Z",
     "start_time": "2025-04-13T13:10:33.320461Z"
    }
   },
   "cell_type": "code",
   "source": "plot_training_history(history)",
   "id": "fa9f41b5f41b8ae3",
   "outputs": [
    {
     "data": {
      "text/plain": [
       "<Figure size 1200x400 with 2 Axes>"
      ],
      "image/png": "[encoded data removed]"
     },
     "metadata": {},
     "output_type": "display_data"
    }
   ],
   "execution_count": 15
  },
  {
   "metadata": {
    "ExecuteTime": {
     "end_time": "2025-04-13T13:10:52.486641Z",
     "start_time": "2025-04-13T13:10:52.271357Z"
    }
   },
   "cell_type": "code",
   "source": [
    "# Saving the model\n",
    "save_model(model, \"artifact_detection_model.keras\")"
   ],
   "id": "5cd46738c24567f1",
   "outputs": [],
   "execution_count": 17
  },
  {
   "metadata": {},
   "cell_type": "code",
   "outputs": [],
   "execution_count": null,
   "source": "",
   "id": "76ed7e728378f46f"
  }
 ],
 "metadata": {
  "kernelspec": {
   "display_name": "Python 3",
   "language": "python",
   "name": "python3"
  },
  "language_info": {
   "codemirror_mode": {
    "name": "ipython",
    "version": 2
   },
   "file_extension": ".py",
   "mimetype": "text/x-python",
   "name": "python",
   "nbconvert_exporter": "python",
   "pygments_lexer": "ipython2",
   "version": "2.7.6"
  }
 },
 "nbformat": 4,
 "nbformat_minor": 5
}
